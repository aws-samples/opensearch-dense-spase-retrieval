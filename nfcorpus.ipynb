{
 "cells": [
  {
   "cell_type": "code",
   "execution_count": null,
   "id": "4ebb1162",
   "metadata": {},
   "outputs": [],
   "source": [
    "!pip install beir==1.0.0"
   ]
  },
  {
   "cell_type": "code",
   "execution_count": null,
   "id": "1f7a84da",
   "metadata": {},
   "outputs": [],
   "source": [
    "from beir import LoggingHandler, util\n",
    "from beir.datasets.data_loader import GenericDataLoader\n",
    "from beir.retrieval.evaluation import EvaluateRetrieval\n",
    "\n",
    "dataset = \"nfcorpus\"\n",
    "data_root_dir = \"beir_data\"\n",
    "\n",
    "url = f\"https://public.ukp.informatik.tu-darmstadt.de/thakur/BEIR/datasets/{dataset}.zip\"\n",
    "data_path = util.download_and_unzip(url, data_root_dir)\n",
    "corpus, queries, qrels = GenericDataLoader(data_folder=data_path).load(split=\"test\")"
   ]
  },
  {
   "cell_type": "code",
   "execution_count": null,
   "id": "6238d012",
   "metadata": {},
   "outputs": [],
   "source": [
    "from opensearchpy import OpenSearch\n",
    "\n",
    "client = OpenSearch(hosts=[\"localhost:9200\"])\n",
    "index_name = \"test\""
   ]
  },
  {
   "cell_type": "code",
   "execution_count": null,
   "id": "0ac63698",
   "metadata": {},
   "outputs": [],
   "source": [
    "from tqdm import tqdm\n",
    "\n",
    "i=0\n",
    "bulk_body=[]\n",
    "for _id,body in tqdm(corpus.items()):\n",
    "    text=body[\"title\"]+\" \"+body[\"text\"]\n",
    "    bulk_body.append({ \"index\" : { \"_index\" : index_name, \"_id\" : _id } })\n",
    "    bulk_body.append({ \"text\" : text })\n",
    "    i+=1\n",
    "    if i%50==0:\n",
    "        response=client.bulk(bulk_body,request_timeout=100)\n",
    "        assert response[\"errors\"]==False\n",
    "        try:\n",
    "            assert response[\"errors\"]==False\n",
    "        except:\n",
    "            print(\"there is errors\")\n",
    "            time.sleep(1)\n",
    "            response = client.bulk(bulk_body,request_timeout=100)\n",
    "            assert response[\"errors\"]==False\n",
    "        bulk_body=[]\n",
    "        \n",
    "response=client.bulk(bulk_body,request_timeout=100)\n",
    "assert response[\"errors\"]==False\n",
    "client.indices.refresh(index=index_name)"
   ]
  },
  {
   "cell_type": "code",
   "execution_count": null,
   "id": "eb4ed690",
   "metadata": {},
   "outputs": [],
   "source": [
    "run_res={}\n",
    "for _id,text in tqdm(queries.items()):\n",
    "    query={\n",
    "      'size': 20,\n",
    "      'query': {\n",
    "        \"match\": {\n",
    "            \"text\":text\n",
    "        }\n",
    "      }\n",
    "    }\n",
    "    response=client.search(index=index_name,body=query)\n",
    "    hits=response[\"hits\"][\"hits\"]\n",
    "    run_res[_id]={item[\"_id\"]:item[\"_score\"] for item in hits}\n",
    "for query_id, doc_dict in tqdm(run_res.items()):\n",
    "    if query_id in doc_dict:\n",
    "        doc_dict.pop(query_id)\n",
    "res=EvaluateRetrieval.evaluate(qrels, run_res, [4,10])\n",
    "print(res)"
   ]
  },
  {
   "cell_type": "code",
   "execution_count": null,
   "id": "9136da21",
   "metadata": {},
   "outputs": [],
   "source": []
  }
 ],
 "metadata": {
  "kernelspec": {
   "display_name": "Python [conda env:splade]",
   "language": "python",
   "name": "conda-env-splade-py"
  },
  "language_info": {
   "codemirror_mode": {
    "name": "ipython",
    "version": 3
   },
   "file_extension": ".py",
   "mimetype": "text/x-python",
   "name": "python",
   "nbconvert_exporter": "python",
   "pygments_lexer": "ipython3",
   "version": "3.8.13"
  }
 },
 "nbformat": 4,
 "nbformat_minor": 5
}
