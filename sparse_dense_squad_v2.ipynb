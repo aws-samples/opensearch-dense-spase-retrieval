{
 "cells": [
  {
   "cell_type": "code",
   "execution_count": null,
   "id": "6e37d169",
   "metadata": {
    "tags": []
   },
   "outputs": [],
   "source": [
    "!pip install -q datasets\n",
    "!pip3 install boto3 requests requests_aws4auth argparse opensearch-py"
   ]
  },
  {
   "cell_type": "markdown",
   "id": "525c2b38-796c-4bc9-ad87-555a2017074b",
   "metadata": {},
   "source": [
    "### 1. Download Experiment Data - squad_v2 (下载实验数据squad_v2）"
   ]
  },
  {
   "cell_type": "code",
   "execution_count": null,
   "id": "ad7ad0a0",
   "metadata": {
    "tags": []
   },
   "outputs": [],
   "source": [
    "from datasets import load_dataset\n",
    "\n",
    "dataset_name = \"squad_v2\"\n",
    "dataset = load_dataset(dataset_name)\n",
    "\n",
    "print(dataset)\n",
    "sample = dataset[\"train\"][0]\n",
    "print(sample)"
   ]
  },
  {
   "cell_type": "markdown",
   "id": "a6638da8-8f39-4417-b9da-ad65ebcc689b",
   "metadata": {},
   "source": [
    "### 2. Setup OpenSearch Index & Model For Experiment(创建用于测试的AOS索引 & 模型) "
   ]
  },
  {
   "cell_type": "markdown",
   "id": "18b26aa3",
   "metadata": {},
   "source": [
    "- Setup Sparse vector model(创建Sparse Vector模型)\n",
    "  + 进入OpenSearch的Integration页面, 由于咱们OpenSearch集群是部署在VPC中的，所以选择“Configure VPC Domain”，会弹出一个Cloudformation模版填写。\n",
    "    ![integration_1.png](./integration_1.png)<br>\n",
    "    + vpc请选择OpenSearch所在的vpc，security group选择为OpenSearch同一个\n",
    "    + 子网subnet请选择对应的Private subnet \n",
    "    <br>\n",
    "  + 验证部署的nerual-sparse模型\n",
    "    进入cloudformation对应stack，切换到output, 获取modelId, ConnecterId 以及Sagemaker endpoint\n",
    "    ![nerual-sparse.png](./nerual-sparse.png)"
   ]
  },
  {
   "cell_type": "markdown",
   "id": "a7dc9623",
   "metadata": {},
   "source": [
    "- Setup Cohere Multilingual Model & ingestion pipeline(创建cohere模型以及ingest的pipeline)"
   ]
  },
  {
   "cell_type": "code",
   "execution_count": null,
   "id": "74a42bb2",
   "metadata": {
    "tags": []
   },
   "outputs": [],
   "source": [
    "aos_endpoint='vpc-domain66ac69e0-2m4jji7cweof-4fefsofiqdzu3hxammxwq5hth4.us-west-2.es.amazonaws.com'\n",
    "# sparse_model_id=<sparse_model_id> # look for sparse_model_id in the output of Cloudformation\n",
    "index_name=\"aos-retrieval\""
   ]
  },
  {
   "cell_type": "code",
   "execution_count": null,
   "id": "6662fcc8-e8e4-4e89-8e3c-7b93ddb49626",
   "metadata": {
    "tags": []
   },
   "outputs": [],
   "source": [
    "!python3 setup_model_and_pipeline.py --aos_endpoint {aos_endpoint} --sparse_model_id {sparse_model_id} --index_name {index_name}"
   ]
  },
  {
   "cell_type": "markdown",
   "id": "ec148e7a-bf91-4141-8d8f-de8fad696f03",
   "metadata": {},
   "source": [
    "- Extarct dense_model_id for query embedding from Output of previous cell(根据上个Cell的输出提取query向量化的模型ID)"
   ]
  },
  {
   "cell_type": "code",
   "execution_count": null,
   "id": "0ecea6af-ac70-41e8-9439-345acb8106ee",
   "metadata": {},
   "outputs": [],
   "source": [
    "dense_model_id=<dense_model_id>"
   ]
  },
  {
   "cell_type": "markdown",
   "id": "0a95496e",
   "metadata": {},
   "source": [
    "### 3. Ingest Data（执行数据摄入）"
   ]
  },
  {
   "cell_type": "code",
   "execution_count": null,
   "id": "3ef5e1ab",
   "metadata": {
    "tags": []
   },
   "outputs": [],
   "source": [
    "import json\n",
    "from tqdm import tqdm\n",
    "from setup_model_and_pipeline import get_aos_client\n",
    "\n",
    "def deduplicate_dataset(dataset):\n",
    "    context_list = [row[\"context\"] for row in dataset]\n",
    "    context_set = set(context_list)\n",
    "    return list(context_set)\n",
    "\n",
    "def build_bulk_body(index_name,sources_list):\n",
    "    bulk_body = []\n",
    "    for source in sources_list:\n",
    "        bulk_body.append({ \"index\" : { \"_index\" : index_name} })\n",
    "        bulk_body.append(source)\n",
    "    return bulk_body\n",
    "\n",
    "def ingest_dataset(dataset,aos_client,index_name, bulk_size=50):\n",
    "    print(\"Deduplicating dataset...\")\n",
    "    context_list = deduplicate_dataset(dataset)\n",
    "    # 19029 for train, 1204 for validation\n",
    "    print(f\"Finished deduplication. Total number of passages: {len(context_list)}\")\n",
    "    \n",
    "    for start_idx in tqdm(range(0,len(context_list),bulk_size)):\n",
    "        contexts = context_list[start_idx:start_idx+bulk_size]\n",
    "        response = aos_client.bulk(\n",
    "            build_bulk_body(index_name, [{\"content\":context} for context in contexts]),\n",
    "            # set a large timeout because a new sparse encoding endpoint need warm up\n",
    "            request_timeout=100\n",
    "        )\n",
    "        assert response[\"errors\"]==False\n",
    "    \n",
    "    aos_client.indices.refresh(index=index_name,request_timeout=100)\n",
    "\n",
    "aos_client = get_aos_client(aos_endpoint)\n",
    "ingest_dataset(dataset=dataset[\"train\"],aos_client=aos_client,index_name=index_name)\n",
    "ingest_dataset(dataset=dataset[\"validation\"],aos_client=aos_client,index_name=index_name)"
   ]
  },
  {
   "cell_type": "markdown",
   "id": "1fcb9d59-43c4-4752-a038-6ab0bda1dc17",
   "metadata": {
    "tags": []
   },
   "source": [
    "### 4. Search benchmark （查询性能测试）"
   ]
  },
  {
   "cell_type": "code",
   "execution_count": null,
   "id": "0e1d05b5",
   "metadata": {},
   "outputs": [],
   "source": [
    "from search_func import search_by_bm25, search_by_dense, search_by_sparse, search_by_dense_sparse, search_by_dense_bm25"
   ]
  },
  {
   "cell_type": "code",
   "execution_count": null,
   "id": "5ffb4d3c",
   "metadata": {},
   "outputs": [],
   "source": [
    "QUERY_DATASET_TYPE = \"validation\"\n",
    "QUERY_DATASET_SIZE = 1000\n",
    "QUERY_DATASET_SIZE = min(QUERY_DATASET_SIZE,len(dataset[QUERY_DATASET_TYPE]))\n",
    "RECALL_K = 4"
   ]
  },
  {
   "cell_type": "code",
   "execution_count": null,
   "id": "2e3cbc8b",
   "metadata": {},
   "outputs": [],
   "source": [
    "def calculate_recall_rate(dataset, index_name, aos_client, data_size, query_body_lambda, recall_k=4):\n",
    "    hit_cnt = 0\n",
    "    miss_cnt = 0\n",
    "    for idx, item in tqdm(enumerate(dataset.select(range(data_size)))):\n",
    "        query = item['question']\n",
    "        content = item['context']\n",
    "        response = aos_client.search(index=index_name,size=recall_k, body=query_body_lambda(query))\n",
    "        docs = [hit[\"_source\"]['content'] for hit in response[\"hits\"][\"hits\"]]\n",
    "        if content in docs:\n",
    "            hit_cnt += 1\n",
    "        else:\n",
    "            miss_cnt += 1\n",
    "    print(f\"hit:{hit_cnt}, miss:{miss_cnt}, recall@{recall_k}:{hit_cnt/data_size}\")"
   ]
  },
  {
   "cell_type": "code",
   "execution_count": null,
   "id": "dbd7a018",
   "metadata": {},
   "outputs": [],
   "source": [
    "# bm25\n",
    "\n",
    "calculate_recall_rate(\n",
    "    dataset = dataset[QUERY_DATASET_TYPE],\n",
    "    index_name = index_name,\n",
    "    aos_client = aos_client,\n",
    "    data_size = QUERY_DATASET_SIZE,\n",
    "    query_body_lambda = lambda query_text: {\n",
    "        \"query\": {\n",
    "            \"match\": {\n",
    "                \"content\" : query_text\n",
    "            }\n",
    "        }\n",
    "    },\n",
    "    recall_k=RECALL_K\n",
    ")"
   ]
  },
  {
   "cell_type": "code",
   "execution_count": null,
   "id": "94ee6bc0",
   "metadata": {},
   "outputs": [],
   "source": [
    "# dense\n",
    "\n",
    "calculate_recall_rate(\n",
    "    dataset = dataset[QUERY_DATASET_TYPE],\n",
    "    index_name = index_name,\n",
    "    aos_client = aos_client,\n",
    "    data_size = QUERY_DATASET_SIZE,\n",
    "    query_body_lambda = lambda query_text: {\n",
    "        \"query\": {\n",
    "            \"neural\": {\n",
    "                \"dense_embedding\": {\n",
    "                  \"query_text\": query_text,\n",
    "                  \"model_id\": dense_model_id,\n",
    "                  \"k\": recall_k\n",
    "                }\n",
    "            }\n",
    "        }\n",
    "    },\n",
    "    recall_k=RECALL_K\n",
    ")"
   ]
  },
  {
   "cell_type": "code",
   "execution_count": null,
   "id": "dd17e1d3",
   "metadata": {},
   "outputs": [],
   "source": [
    "# sparse\n",
    "\n",
    "calculate_recall_rate(\n",
    "    dataset = dataset[QUERY_DATASET_TYPE],\n",
    "    index_name = index_name,\n",
    "    aos_client = aos_client,\n",
    "    data_size = QUERY_DATASET_SIZE,\n",
    "    query_body_lambda = lambda query_text: {\n",
    "        \"query\": {\n",
    "            \"neural_sparse\": {\n",
    "              \"sparse_embedding\": {\n",
    "                \"query_text\": query_text,\n",
    "                \"model_id\": sparse_model_id,\n",
    "                \"max_token_score\": 3.5\n",
    "              }\n",
    "          }\n",
    "        }\n",
    "    },\n",
    "    recall_k=RECALL_K\n",
    ")"
   ]
  },
  {
   "cell_type": "code",
   "execution_count": null,
   "id": "36d4691c",
   "metadata": {},
   "outputs": [],
   "source": [
    "# dense+sparse\n",
    "\n",
    "calculate_recall_rate(\n",
    "    dataset = dataset[QUERY_DATASET_TYPE],\n",
    "    index_name = index_name,\n",
    "    aos_client = aos_client,\n",
    "    data_size = QUERY_DATASET_SIZE,\n",
    "    query_body_lambda = lambda query_text: {\n",
    "        \"query\": {\n",
    "            \"hybrid\": {\n",
    "                \"queries\": [\n",
    "                    {\n",
    "                        \"neural_sparse\": {\n",
    "                            \"sparse_embedding\": {\n",
    "                                \"query_text\": query_text,\n",
    "                                \"model_id\": sparse_model_id,\n",
    "                                \"max_token_score\": 3.5\n",
    "                            }\n",
    "                        }\n",
    "                    },\n",
    "                    {\n",
    "                        \"neural\": {\n",
    "                            \"dense_embedding\": {\n",
    "                                \"query_text\": query_text,\n",
    "                                \"model_id\": dense_model_id,\n",
    "                                \"k\": 10\n",
    "                            }\n",
    "                        }\n",
    "                    }\n",
    "                ]\n",
    "            }\n",
    "        }\n",
    "    },\n",
    "    recall_k=RECALL_K\n",
    ")"
   ]
  },
  {
   "cell_type": "code",
   "execution_count": null,
   "id": "74ebe3d8",
   "metadata": {},
   "outputs": [],
   "source": [
    "# dense+bm25\n",
    "\n",
    "calculate_recall_rate(\n",
    "    dataset = dataset[QUERY_DATASET_TYPE],\n",
    "    index_name = index_name,\n",
    "    aos_client = aos_client,\n",
    "    data_size = QUERY_DATASET_SIZE,\n",
    "    query_body_lambda = lambda query_text: {\n",
    "        \"query\": {\n",
    "            \"hybrid\": {\n",
    "                \"queries\": [\n",
    "                    {\n",
    "                        \"match\": {\n",
    "                            \"content\" : query_text\n",
    "                        }\n",
    "                    },\n",
    "                    {\n",
    "                        \"neural\": {\n",
    "                            \"dense_embedding\": {\n",
    "                                \"query_text\": query_text,\n",
    "                                \"model_id\": dense_model_id,\n",
    "                                \"k\": 10\n",
    "                            }\n",
    "                        }\n",
    "                    }\n",
    "                ]\n",
    "            }\n",
    "        }\n",
    "    },\n",
    "    recall_k=RECALL_K\n",
    ")"
   ]
  }
 ],
 "metadata": {
  "kernelspec": {
   "display_name": "Python [conda env:root] *",
   "language": "python",
   "name": "conda-root-py"
  },
  "language_info": {
   "codemirror_mode": {
    "name": "ipython",
    "version": 3
   },
   "file_extension": ".py",
   "mimetype": "text/x-python",
   "name": "python",
   "nbconvert_exporter": "python",
   "pygments_lexer": "ipython3",
   "version": "3.10.9"
  }
 },
 "nbformat": 4,
 "nbformat_minor": 5
}
